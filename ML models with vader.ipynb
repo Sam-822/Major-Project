{
 "cells": [
  {
   "cell_type": "code",
   "execution_count": 1,
   "id": "d2b49b19",
   "metadata": {},
   "outputs": [],
   "source": [
    "import pandas as pd\n",
    "import nltk\n",
    "from nltk import word_tokenize\n",
    "import pandas as pd\n",
    "import numpy as np\n",
    "import matplotlib.pyplot as plt\n",
    "import nltk\n",
    "import gensim\n",
    "from gensim.utils import simple_preprocess\n",
    "from gensim.parsing.preprocessing import STOPWORDS\n",
    "\n"
   ]
  },
  {
   "cell_type": "code",
   "execution_count": 48,
   "id": "32a1b070",
   "metadata": {},
   "outputs": [],
   "source": [
    "df = pd.read_csv(\"dataset_final_2.csv\")"
   ]
  },
  {
   "cell_type": "code",
   "execution_count": 49,
   "id": "93796ace",
   "metadata": {},
   "outputs": [
    {
     "data": {
      "text/plain": [
       "5647"
      ]
     },
     "execution_count": 49,
     "metadata": {},
     "output_type": "execute_result"
    }
   ],
   "source": [
    "len(df)"
   ]
  },
  {
   "cell_type": "code",
   "execution_count": 50,
   "id": "09b148f3",
   "metadata": {
    "scrolled": true
   },
   "outputs": [
    {
     "data": {
      "text/plain": [
       "<Axes: xlabel='sentiment'>"
      ]
     },
     "execution_count": 50,
     "metadata": {},
     "output_type": "execute_result"
    },
    {
     "data": {
      "image/png": "[encoded data removed]",
      "text/plain": [
       "<Figure size 600x400 with 1 Axes>"
      ]
     },
     "metadata": {},
     "output_type": "display_data"
    }
   ],
   "source": [
    "df['sentiment'].value_counts().plot.bar(figsize = (6, 4))"
   ]
  },
  {
   "cell_type": "code",
   "execution_count": 51,
   "id": "65df50de",
   "metadata": {},
   "outputs": [],
   "source": [
    "df.dropna(subset = [\"feedback\"], inplace=True) # drop those rows which have NaN value cells\n",
    "df = df.reset_index(drop = True)\n"
   ]
  },
  {
   "cell_type": "code",
   "execution_count": 52,
   "id": "45b68d77",
   "metadata": {},
   "outputs": [
    {
     "data": {
      "text/plain": [
       "5645"
      ]
     },
     "execution_count": 52,
     "metadata": {},
     "output_type": "execute_result"
    }
   ],
   "source": [
    "len(df)"
   ]
  },
  {
   "cell_type": "code",
   "execution_count": 53,
   "id": "4bd1f1ae",
   "metadata": {
    "scrolled": true
   },
   "outputs": [
    {
     "data": {
      "text/html": [
       "<div>\n",
       "<style scoped>\n",
       "    .dataframe tbody tr th:only-of-type {\n",
       "        vertical-align: middle;\n",
       "    }\n",
       "\n",
       "    .dataframe tbody tr th {\n",
       "        vertical-align: top;\n",
       "    }\n",
       "\n",
       "    .dataframe thead th {\n",
       "        text-align: right;\n",
       "    }\n",
       "</style>\n",
       "<table border=\"1\" class=\"dataframe\">\n",
       "  <thead>\n",
       "    <tr style=\"text-align: right;\">\n",
       "      <th></th>\n",
       "      <th>stu_id</th>\n",
       "      <th>year</th>\n",
       "      <th>dept</th>\n",
       "      <th>feedback</th>\n",
       "      <th>sentiment</th>\n",
       "    </tr>\n",
       "  </thead>\n",
       "  <tbody>\n",
       "    <tr>\n",
       "      <th>0</th>\n",
       "      <td>19104001</td>\n",
       "      <td>BE</td>\n",
       "      <td>IT</td>\n",
       "      <td>The lectures were engaging</td>\n",
       "      <td>1.0</td>\n",
       "    </tr>\n",
       "    <tr>\n",
       "      <th>1</th>\n",
       "      <td>19104002</td>\n",
       "      <td>BE</td>\n",
       "      <td>IT</td>\n",
       "      <td>The course material was poorly organized</td>\n",
       "      <td>-1.0</td>\n",
       "    </tr>\n",
       "    <tr>\n",
       "      <th>2</th>\n",
       "      <td>19104003</td>\n",
       "      <td>BE</td>\n",
       "      <td>IT</td>\n",
       "      <td>The professor was knowledgeable and approachable</td>\n",
       "      <td>1.0</td>\n",
       "    </tr>\n",
       "    <tr>\n",
       "      <th>3</th>\n",
       "      <td>19104004</td>\n",
       "      <td>BE</td>\n",
       "      <td>IT</td>\n",
       "      <td>The workload was manageable</td>\n",
       "      <td>0.0</td>\n",
       "    </tr>\n",
       "    <tr>\n",
       "      <th>4</th>\n",
       "      <td>19104005</td>\n",
       "      <td>BE</td>\n",
       "      <td>IT</td>\n",
       "      <td>The facilities were outdated and cramped</td>\n",
       "      <td>-1.0</td>\n",
       "    </tr>\n",
       "  </tbody>\n",
       "</table>\n",
       "</div>"
      ],
      "text/plain": [
       "     stu_id year dept                                          feedback   \n",
       "0  19104001   BE   IT                        The lectures were engaging  \\\n",
       "1  19104002   BE   IT          The course material was poorly organized   \n",
       "2  19104003   BE   IT  The professor was knowledgeable and approachable   \n",
       "3  19104004   BE   IT                       The workload was manageable   \n",
       "4  19104005   BE   IT          The facilities were outdated and cramped   \n",
       "\n",
       "   sentiment  \n",
       "0        1.0  \n",
       "1       -1.0  \n",
       "2        1.0  \n",
       "3        0.0  \n",
       "4       -1.0  "
      ]
     },
     "execution_count": 53,
     "metadata": {},
     "output_type": "execute_result"
    }
   ],
   "source": [
    "df.head()"
   ]
  },
  {
   "cell_type": "code",
   "execution_count": 54,
   "id": "258bcfc8",
   "metadata": {},
   "outputs": [],
   "source": [
    "# Obtain additional stopwords from nltk\n",
    "from nltk.corpus import stopwords\n",
    "stop_words = stopwords.words('english')\n",
    "stop_words.extend(['from', 'subject', 're', 'edu', 'use']) # add additional stop words to remove"
   ]
  },
  {
   "cell_type": "code",
   "execution_count": 55,
   "id": "099dcc51",
   "metadata": {},
   "outputs": [],
   "source": [
    "# Remove stopwords and remove words with 2 or less characters using gensim\n",
    "def preprocess(text):\n",
    "    result = []\n",
    "    for token in gensim.utils.simple_preprocess(text):\n",
    "        if token not in gensim.parsing.preprocessing.STOPWORDS and len(token) > 3 and token not in stop_words:\n",
    "            result.append(token)\n",
    "            \n",
    "    return result"
   ]
  },
  {
   "cell_type": "code",
   "execution_count": 56,
   "id": "2ac64f7d",
   "metadata": {},
   "outputs": [],
   "source": [
    "df['clean'] = df['feedback'].apply(preprocess)"
   ]
  },
  {
   "cell_type": "code",
   "execution_count": 57,
   "id": "98fd7d23",
   "metadata": {},
   "outputs": [],
   "source": [
    "df['clean_joined'] = df['clean'].apply(lambda x: \" \".join(x))"
   ]
  },
  {
   "cell_type": "code",
   "execution_count": 58,
   "id": "c77bd09f",
   "metadata": {},
   "outputs": [
    {
     "data": {
      "text/html": [
       "<div>\n",
       "<style scoped>\n",
       "    .dataframe tbody tr th:only-of-type {\n",
       "        vertical-align: middle;\n",
       "    }\n",
       "\n",
       "    .dataframe tbody tr th {\n",
       "        vertical-align: top;\n",
       "    }\n",
       "\n",
       "    .dataframe thead th {\n",
       "        text-align: right;\n",
       "    }\n",
       "</style>\n",
       "<table border=\"1\" class=\"dataframe\">\n",
       "  <thead>\n",
       "    <tr style=\"text-align: right;\">\n",
       "      <th></th>\n",
       "      <th>stu_id</th>\n",
       "      <th>year</th>\n",
       "      <th>dept</th>\n",
       "      <th>feedback</th>\n",
       "      <th>sentiment</th>\n",
       "      <th>clean</th>\n",
       "      <th>clean_joined</th>\n",
       "    </tr>\n",
       "  </thead>\n",
       "  <tbody>\n",
       "    <tr>\n",
       "      <th>0</th>\n",
       "      <td>19104001</td>\n",
       "      <td>BE</td>\n",
       "      <td>IT</td>\n",
       "      <td>The lectures were engaging</td>\n",
       "      <td>1.0</td>\n",
       "      <td>[lectures, engaging]</td>\n",
       "      <td>lectures engaging</td>\n",
       "    </tr>\n",
       "    <tr>\n",
       "      <th>1</th>\n",
       "      <td>19104002</td>\n",
       "      <td>BE</td>\n",
       "      <td>IT</td>\n",
       "      <td>The course material was poorly organized</td>\n",
       "      <td>-1.0</td>\n",
       "      <td>[course, material, poorly, organized]</td>\n",
       "      <td>course material poorly organized</td>\n",
       "    </tr>\n",
       "    <tr>\n",
       "      <th>2</th>\n",
       "      <td>19104003</td>\n",
       "      <td>BE</td>\n",
       "      <td>IT</td>\n",
       "      <td>The professor was knowledgeable and approachable</td>\n",
       "      <td>1.0</td>\n",
       "      <td>[professor, knowledgeable, approachable]</td>\n",
       "      <td>professor knowledgeable approachable</td>\n",
       "    </tr>\n",
       "    <tr>\n",
       "      <th>3</th>\n",
       "      <td>19104004</td>\n",
       "      <td>BE</td>\n",
       "      <td>IT</td>\n",
       "      <td>The workload was manageable</td>\n",
       "      <td>0.0</td>\n",
       "      <td>[workload, manageable]</td>\n",
       "      <td>workload manageable</td>\n",
       "    </tr>\n",
       "    <tr>\n",
       "      <th>4</th>\n",
       "      <td>19104005</td>\n",
       "      <td>BE</td>\n",
       "      <td>IT</td>\n",
       "      <td>The facilities were outdated and cramped</td>\n",
       "      <td>-1.0</td>\n",
       "      <td>[facilities, outdated, cramped]</td>\n",
       "      <td>facilities outdated cramped</td>\n",
       "    </tr>\n",
       "  </tbody>\n",
       "</table>\n",
       "</div>"
      ],
      "text/plain": [
       "     stu_id year dept                                          feedback   \n",
       "0  19104001   BE   IT                        The lectures were engaging  \\\n",
       "1  19104002   BE   IT          The course material was poorly organized   \n",
       "2  19104003   BE   IT  The professor was knowledgeable and approachable   \n",
       "3  19104004   BE   IT                       The workload was manageable   \n",
       "4  19104005   BE   IT          The facilities were outdated and cramped   \n",
       "\n",
       "   sentiment                                     clean   \n",
       "0        1.0                      [lectures, engaging]  \\\n",
       "1       -1.0     [course, material, poorly, organized]   \n",
       "2        1.0  [professor, knowledgeable, approachable]   \n",
       "3        0.0                    [workload, manageable]   \n",
       "4       -1.0           [facilities, outdated, cramped]   \n",
       "\n",
       "                           clean_joined  \n",
       "0                     lectures engaging  \n",
       "1      course material poorly organized  \n",
       "2  professor knowledgeable approachable  \n",
       "3                   workload manageable  \n",
       "4           facilities outdated cramped  "
      ]
     },
     "execution_count": 58,
     "metadata": {},
     "output_type": "execute_result"
    }
   ],
   "source": [
    "df.head()"
   ]
  },
  {
   "cell_type": "code",
   "execution_count": 59,
   "id": "7bb3b967",
   "metadata": {},
   "outputs": [],
   "source": [
    "from sklearn.model_selection import train_test_split\n",
    "x_train, x_test, y_train, y_test = train_test_split(df.feedback, df.sentiment, test_size = 0.2)"
   ]
  },
  {
   "cell_type": "code",
   "execution_count": 60,
   "id": "3928c4db",
   "metadata": {},
   "outputs": [],
   "source": [
    "x_train = x_train.reset_index(drop=True)\n",
    "x_test = x_test.reset_index(drop=True)\n",
    "y_train = y_train.reset_index(drop=True)\n",
    "y_test = y_test.reset_index(drop=True)"
   ]
  },
  {
   "cell_type": "code",
   "execution_count": 61,
   "id": "89acf95d",
   "metadata": {},
   "outputs": [],
   "source": [
    "from sklearn.feature_extraction.text import TfidfVectorizer\n",
    "tfvect = TfidfVectorizer(stop_words='english',max_df=0.7)\n",
    "tfid_x_train = tfvect.fit_transform(x_train)\n",
    "tfid_x_test = tfvect.transform(x_test)\n",
    "import pickle\n",
    "with open('tfidf.pickle', 'wb') as f:\n",
    "    pickle.dump(tfvect, f)"
   ]
  },
  {
   "cell_type": "code",
   "execution_count": 62,
   "id": "f5eae698",
   "metadata": {},
   "outputs": [
    {
     "name": "stdout",
     "output_type": "stream",
     "text": [
      "0      -1.0\n",
      "1      -1.0\n",
      "2       1.0\n",
      "3       1.0\n",
      "4       1.0\n",
      "       ... \n",
      "4511    1.0\n",
      "4512    1.0\n",
      "4513   -1.0\n",
      "4514    0.0\n",
      "4515    1.0\n",
      "Name: sentiment, Length: 4516, dtype: float64\n"
     ]
    }
   ],
   "source": [
    "print(y_train)"
   ]
  },
  {
   "cell_type": "code",
   "execution_count": 63,
   "id": "8ea0b18d",
   "metadata": {},
   "outputs": [
    {
     "name": "stdout",
     "output_type": "stream",
     "text": [
      "Accuracy: 82.55%\n"
     ]
    }
   ],
   "source": [
    "from sklearn.linear_model import PassiveAggressiveClassifier\n",
    "from sklearn.metrics import accuracy_score\n",
    "\n",
    "pac_classifier = PassiveAggressiveClassifier()\n",
    "pac_classifier.fit(tfid_x_train,y_train)\n",
    "y_pred = pac_classifier.predict(tfid_x_test)\n",
    "score = accuracy_score(y_test,y_pred)\n",
    "pac_score = round(score*100,2)\n",
    "print(f'Accuracy: {pac_score}%')"
   ]
  },
  {
   "cell_type": "code",
   "execution_count": 64,
   "id": "88e997c0",
   "metadata": {},
   "outputs": [
    {
     "name": "stdout",
     "output_type": "stream",
     "text": [
      "Accuracy: 80.07%\n"
     ]
    }
   ],
   "source": [
    "from sklearn.naive_bayes import MultinomialNB \n",
    "nb_classifier = MultinomialNB()\n",
    "nb_classifier.fit(tfid_x_train,y_train)\n",
    "y_pred = nb_classifier.predict(tfid_x_test)\n",
    "score = accuracy_score(y_test,y_pred)\n",
    "nb_score = round(score*100,2)\n",
    "print(f'Accuracy: {nb_score}%')"
   ]
  },
  {
   "cell_type": "code",
   "execution_count": 65,
   "id": "fccc7b0e",
   "metadata": {},
   "outputs": [
    {
     "name": "stdout",
     "output_type": "stream",
     "text": [
      "Accuracy: 77.95%\n"
     ]
    }
   ],
   "source": [
    "from sklearn.neighbors import KNeighborsClassifier\n",
    "knc_classifier=KNeighborsClassifier()\n",
    "knc_classifier.fit(tfid_x_train,y_train)\n",
    "y_pred = knc_classifier.predict(tfid_x_test)\n",
    "score = accuracy_score(y_test,y_pred)\n",
    "knc_score = round(score*100,2)\n",
    "print(f'Accuracy: {knc_score}%')"
   ]
  },
  {
   "cell_type": "code",
   "execution_count": 66,
   "id": "c91e5617",
   "metadata": {},
   "outputs": [
    {
     "name": "stdout",
     "output_type": "stream",
     "text": [
      "Accuracy: 83.35%\n"
     ]
    }
   ],
   "source": [
    "from sklearn.linear_model import LogisticRegression\n",
    "lr_classifier=LogisticRegression()\n",
    "lr_classifier.fit(tfid_x_train,y_train)\n",
    "y_pred = lr_classifier.predict(tfid_x_test)\n",
    "score = accuracy_score(y_test,y_pred)\n",
    "lr_score = round(score*100,2)\n",
    "print(f'Accuracy: {lr_score}%')"
   ]
  },
  {
   "cell_type": "code",
   "execution_count": 67,
   "id": "bb2352e7",
   "metadata": {},
   "outputs": [
    {
     "name": "stdout",
     "output_type": "stream",
     "text": [
      "Accuracy: 77.59%\n"
     ]
    }
   ],
   "source": [
    "from sklearn.tree import DecisionTreeClassifier\n",
    "dtc_classifier=DecisionTreeClassifier()\n",
    "dtc_classifier.fit(tfid_x_train,y_train)\n",
    "y_pred = dtc_classifier.predict(tfid_x_test)\n",
    "score = accuracy_score(y_test,y_pred)\n",
    "dtc_score = round(score*100,2)\n",
    "print(f'Accuracy: {dtc_score}%')"
   ]
  },
  {
   "cell_type": "code",
   "execution_count": 68,
   "id": "a08035c5",
   "metadata": {},
   "outputs": [
    {
     "name": "stdout",
     "output_type": "stream",
     "text": [
      "Accuracy: 84.15%\n"
     ]
    }
   ],
   "source": [
    "from sklearn.ensemble import RandomForestClassifier\n",
    "rfc_classifier=RandomForestClassifier()\n",
    "rfc_classifier.fit(tfid_x_train,y_train)\n",
    "y_pred = rfc_classifier.predict(tfid_x_test)\n",
    "score = accuracy_score(y_test,y_pred)\n",
    "rfc_score = round(score*100,2)\n",
    "print(f'Accuracy: {rfc_score}%')"
   ]
  },
  {
   "cell_type": "code",
   "execution_count": 69,
   "id": "4cd21d10",
   "metadata": {},
   "outputs": [],
   "source": [
    "import pickle\n",
    "with open('RFC.pickle', 'wb') as f:\n",
    "    pickle.dump(rfc_classifier, f)"
   ]
  }
 ],
 "metadata": {
  "kernelspec": {
   "display_name": "Python 3 (ipykernel)",
   "language": "python",
   "name": "python3"
  },
  "language_info": {
   "codemirror_mode": {
    "name": "ipython",
    "version": 3
   },
   "file_extension": ".py",
   "mimetype": "text/x-python",
   "name": "python",
   "nbconvert_exporter": "python",
   "pygments_lexer": "ipython3",
   "version": "3.11.2"
  }
 },
 "nbformat": 4,
 "nbformat_minor": 5
}
