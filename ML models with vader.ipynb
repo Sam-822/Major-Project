{
 "cells": [
  {
   "cell_type": "code",
   "execution_count": 3,
   "id": "d2b49b19",
   "metadata": {},
   "outputs": [],
   "source": [
    "import pandas as pd\n",
    "import nltk\n",
    "from nltk import word_tokenize\n",
    "import pandas as pd\n",
    "import numpy as np\n",
    "import matplotlib.pyplot as plt\n",
    "import nltk\n",
    "import gensim\n",
    "from gensim.utils import simple_preprocess\n",
    "from gensim.parsing.preprocessing import STOPWORDS\n",
    "\n"
   ]
  },
  {
   "cell_type": "code",
   "execution_count": 2,
   "id": "32a1b070",
   "metadata": {},
   "outputs": [],
   "source": [
    "df = pd.read_csv(\"dataset_final_1.csv\")"
   ]
  },
  {
   "cell_type": "code",
   "execution_count": 13,
   "id": "93796ace",
   "metadata": {},
   "outputs": [
    {
     "data": {
      "text/plain": [
       "5647"
      ]
     },
     "execution_count": 13,
     "metadata": {},
     "output_type": "execute_result"
    }
   ],
   "source": [
    "len(df)"
   ]
  },
  {
   "cell_type": "code",
   "execution_count": 14,
   "id": "09b148f3",
   "metadata": {
    "scrolled": true
   },
   "outputs": [
    {
     "data": {
      "text/plain": [
       "<AxesSubplot: >"
      ]
     },
     "execution_count": 14,
     "metadata": {},
     "output_type": "execute_result"
    },
    {
     "data": {
      "image/png": "[encoded data removed]",
      "text/plain": [
       "<Figure size 432x288 with 1 Axes>"
      ]
     },
     "metadata": {
      "needs_background": "light"
     },
     "output_type": "display_data"
    }
   ],
   "source": [
    "df['sentiment'].value_counts().plot.bar(figsize = (6, 4))"
   ]
  },
  {
   "cell_type": "code",
   "execution_count": 3,
   "id": "65df50de",
   "metadata": {},
   "outputs": [],
   "source": [
    "df.dropna(subset = [\"feedback\"], inplace=True) # drop those rows which have NaN value cells\n",
    "df = df.reset_index(drop = True)\n"
   ]
  },
  {
   "cell_type": "code",
   "execution_count": 16,
   "id": "45b68d77",
   "metadata": {},
   "outputs": [
    {
     "data": {
      "text/plain": [
       "5645"
      ]
     },
     "execution_count": 16,
     "metadata": {},
     "output_type": "execute_result"
    }
   ],
   "source": [
    "len(df)"
   ]
  },
  {
   "cell_type": "code",
   "execution_count": 17,
   "id": "4bd1f1ae",
   "metadata": {
    "scrolled": true
   },
   "outputs": [
    {
     "data": {
      "text/html": [
       "<div>\n",
       "<style scoped>\n",
       "    .dataframe tbody tr th:only-of-type {\n",
       "        vertical-align: middle;\n",
       "    }\n",
       "\n",
       "    .dataframe tbody tr th {\n",
       "        vertical-align: top;\n",
       "    }\n",
       "\n",
       "    .dataframe thead th {\n",
       "        text-align: right;\n",
       "    }\n",
       "</style>\n",
       "<table border=\"1\" class=\"dataframe\">\n",
       "  <thead>\n",
       "    <tr style=\"text-align: right;\">\n",
       "      <th></th>\n",
       "      <th>stu_id</th>\n",
       "      <th>year</th>\n",
       "      <th>dept</th>\n",
       "      <th>feedback</th>\n",
       "      <th>sentiment</th>\n",
       "    </tr>\n",
       "  </thead>\n",
       "  <tbody>\n",
       "    <tr>\n",
       "      <th>0</th>\n",
       "      <td>19104001</td>\n",
       "      <td>BE</td>\n",
       "      <td>IT</td>\n",
       "      <td>The lectures were engaging</td>\n",
       "      <td>1.0</td>\n",
       "    </tr>\n",
       "    <tr>\n",
       "      <th>1</th>\n",
       "      <td>19104002</td>\n",
       "      <td>BE</td>\n",
       "      <td>IT</td>\n",
       "      <td>The course material was poorly organized</td>\n",
       "      <td>-1.0</td>\n",
       "    </tr>\n",
       "    <tr>\n",
       "      <th>2</th>\n",
       "      <td>19104003</td>\n",
       "      <td>BE</td>\n",
       "      <td>IT</td>\n",
       "      <td>The professor was knowledgeable and approachable</td>\n",
       "      <td>1.0</td>\n",
       "    </tr>\n",
       "    <tr>\n",
       "      <th>3</th>\n",
       "      <td>19104004</td>\n",
       "      <td>BE</td>\n",
       "      <td>IT</td>\n",
       "      <td>The workload was manageable</td>\n",
       "      <td>0.0</td>\n",
       "    </tr>\n",
       "    <tr>\n",
       "      <th>4</th>\n",
       "      <td>19104005</td>\n",
       "      <td>BE</td>\n",
       "      <td>IT</td>\n",
       "      <td>The facilities were outdated and cramped</td>\n",
       "      <td>-1.0</td>\n",
       "    </tr>\n",
       "  </tbody>\n",
       "</table>\n",
       "</div>"
      ],
      "text/plain": [
       "     stu_id year dept                                          feedback  \\\n",
       "0  19104001   BE   IT                        The lectures were engaging   \n",
       "1  19104002   BE   IT          The course material was poorly organized   \n",
       "2  19104003   BE   IT  The professor was knowledgeable and approachable   \n",
       "3  19104004   BE   IT                       The workload was manageable   \n",
       "4  19104005   BE   IT          The facilities were outdated and cramped   \n",
       "\n",
       "   sentiment  \n",
       "0        1.0  \n",
       "1       -1.0  \n",
       "2        1.0  \n",
       "3        0.0  \n",
       "4       -1.0  "
      ]
     },
     "execution_count": 17,
     "metadata": {},
     "output_type": "execute_result"
    }
   ],
   "source": [
    "df.head()"
   ]
  },
  {
   "cell_type": "code",
   "execution_count": 18,
   "id": "258bcfc8",
   "metadata": {},
   "outputs": [],
   "source": [
    "# Obtain additional stopwords from nltk\n",
    "from nltk.corpus import stopwords\n",
    "stop_words = stopwords.words('english')\n",
    "stop_words.extend(['from', 'subject', 're', 'edu', 'use']) # add additional stop words to remove"
   ]
  },
  {
   "cell_type": "code",
   "execution_count": 19,
   "id": "099dcc51",
   "metadata": {},
   "outputs": [],
   "source": [
    "# Remove stopwords and remove words with 2 or less characters using gensim\n",
    "def preprocess(text):\n",
    "    result = []\n",
    "    for token in gensim.utils.simple_preprocess(text):\n",
    "        if token not in gensim.parsing.preprocessing.STOPWORDS and len(token) > 3 and token not in stop_words:\n",
    "            result.append(token)\n",
    "            \n",
    "    return result"
   ]
  },
  {
   "cell_type": "code",
   "execution_count": 20,
   "id": "2ac64f7d",
   "metadata": {},
   "outputs": [],
   "source": [
    "df['clean'] = df['feedback'].apply(preprocess)"
   ]
  },
  {
   "cell_type": "code",
   "execution_count": 21,
   "id": "98fd7d23",
   "metadata": {},
   "outputs": [],
   "source": [
    "df['clean_joined'] = df['clean'].apply(lambda x: \" \".join(x))"
   ]
  },
  {
   "cell_type": "code",
   "execution_count": 22,
   "id": "c77bd09f",
   "metadata": {},
   "outputs": [
    {
     "data": {
      "text/html": [
       "<div>\n",
       "<style scoped>\n",
       "    .dataframe tbody tr th:only-of-type {\n",
       "        vertical-align: middle;\n",
       "    }\n",
       "\n",
       "    .dataframe tbody tr th {\n",
       "        vertical-align: top;\n",
       "    }\n",
       "\n",
       "    .dataframe thead th {\n",
       "        text-align: right;\n",
       "    }\n",
       "</style>\n",
       "<table border=\"1\" class=\"dataframe\">\n",
       "  <thead>\n",
       "    <tr style=\"text-align: right;\">\n",
       "      <th></th>\n",
       "      <th>stu_id</th>\n",
       "      <th>year</th>\n",
       "      <th>dept</th>\n",
       "      <th>feedback</th>\n",
       "      <th>sentiment</th>\n",
       "      <th>clean</th>\n",
       "      <th>clean_joined</th>\n",
       "    </tr>\n",
       "  </thead>\n",
       "  <tbody>\n",
       "    <tr>\n",
       "      <th>0</th>\n",
       "      <td>19104001</td>\n",
       "      <td>BE</td>\n",
       "      <td>IT</td>\n",
       "      <td>The lectures were engaging</td>\n",
       "      <td>1.0</td>\n",
       "      <td>[lectures, engaging]</td>\n",
       "      <td>lectures engaging</td>\n",
       "    </tr>\n",
       "    <tr>\n",
       "      <th>1</th>\n",
       "      <td>19104002</td>\n",
       "      <td>BE</td>\n",
       "      <td>IT</td>\n",
       "      <td>The course material was poorly organized</td>\n",
       "      <td>-1.0</td>\n",
       "      <td>[course, material, poorly, organized]</td>\n",
       "      <td>course material poorly organized</td>\n",
       "    </tr>\n",
       "    <tr>\n",
       "      <th>2</th>\n",
       "      <td>19104003</td>\n",
       "      <td>BE</td>\n",
       "      <td>IT</td>\n",
       "      <td>The professor was knowledgeable and approachable</td>\n",
       "      <td>1.0</td>\n",
       "      <td>[professor, knowledgeable, approachable]</td>\n",
       "      <td>professor knowledgeable approachable</td>\n",
       "    </tr>\n",
       "    <tr>\n",
       "      <th>3</th>\n",
       "      <td>19104004</td>\n",
       "      <td>BE</td>\n",
       "      <td>IT</td>\n",
       "      <td>The workload was manageable</td>\n",
       "      <td>0.0</td>\n",
       "      <td>[workload, manageable]</td>\n",
       "      <td>workload manageable</td>\n",
       "    </tr>\n",
       "    <tr>\n",
       "      <th>4</th>\n",
       "      <td>19104005</td>\n",
       "      <td>BE</td>\n",
       "      <td>IT</td>\n",
       "      <td>The facilities were outdated and cramped</td>\n",
       "      <td>-1.0</td>\n",
       "      <td>[facilities, outdated, cramped]</td>\n",
       "      <td>facilities outdated cramped</td>\n",
       "    </tr>\n",
       "  </tbody>\n",
       "</table>\n",
       "</div>"
      ],
      "text/plain": [
       "     stu_id year dept                                          feedback  \\\n",
       "0  19104001   BE   IT                        The lectures were engaging   \n",
       "1  19104002   BE   IT          The course material was poorly organized   \n",
       "2  19104003   BE   IT  The professor was knowledgeable and approachable   \n",
       "3  19104004   BE   IT                       The workload was manageable   \n",
       "4  19104005   BE   IT          The facilities were outdated and cramped   \n",
       "\n",
       "   sentiment                                     clean  \\\n",
       "0        1.0                      [lectures, engaging]   \n",
       "1       -1.0     [course, material, poorly, organized]   \n",
       "2        1.0  [professor, knowledgeable, approachable]   \n",
       "3        0.0                    [workload, manageable]   \n",
       "4       -1.0           [facilities, outdated, cramped]   \n",
       "\n",
       "                           clean_joined  \n",
       "0                     lectures engaging  \n",
       "1      course material poorly organized  \n",
       "2  professor knowledgeable approachable  \n",
       "3                   workload manageable  \n",
       "4           facilities outdated cramped  "
      ]
     },
     "execution_count": 22,
     "metadata": {},
     "output_type": "execute_result"
    }
   ],
   "source": [
    "df.head()"
   ]
  },
  {
   "cell_type": "code",
   "execution_count": 23,
   "id": "7bb3b967",
   "metadata": {},
   "outputs": [],
   "source": [
    "from sklearn.model_selection import train_test_split\n",
    "x_train, x_test, y_train, y_test = train_test_split(df.feedback, df.sentiment, test_size = 0.2)"
   ]
  },
  {
   "cell_type": "code",
   "execution_count": 24,
   "id": "3928c4db",
   "metadata": {},
   "outputs": [],
   "source": [
    "x_train = x_train.reset_index(drop=True)\n",
    "x_test = x_test.reset_index(drop=True)\n",
    "y_train = y_train.reset_index(drop=True)\n",
    "y_test = y_test.reset_index(drop=True)"
   ]
  },
  {
   "cell_type": "code",
   "execution_count": 25,
   "id": "89acf95d",
   "metadata": {},
   "outputs": [],
   "source": [
    "from sklearn.feature_extraction.text import TfidfVectorizer\n",
    "tfvect = TfidfVectorizer(stop_words='english',max_df=0.7)\n",
    "tfid_x_train = tfvect.fit_transform(x_train)\n",
    "tfid_x_test = tfvect.transform(x_test)"
   ]
  },
  {
   "cell_type": "code",
   "execution_count": 26,
   "id": "f5eae698",
   "metadata": {},
   "outputs": [
    {
     "name": "stdout",
     "output_type": "stream",
     "text": [
      "0      -1.0\n",
      "1       0.0\n",
      "2       0.0\n",
      "3       1.0\n",
      "4       1.0\n",
      "       ... \n",
      "4511    1.0\n",
      "4512    1.0\n",
      "4513    1.0\n",
      "4514    0.0\n",
      "4515    1.0\n",
      "Name: sentiment, Length: 4516, dtype: float64\n"
     ]
    }
   ],
   "source": [
    "print(y_train)"
   ]
  },
  {
   "cell_type": "code",
   "execution_count": 27,
   "id": "8ea0b18d",
   "metadata": {},
   "outputs": [
    {
     "name": "stdout",
     "output_type": "stream",
     "text": [
      "Accuracy: 82.64%\n"
     ]
    }
   ],
   "source": [
    "from sklearn.linear_model import PassiveAggressiveClassifier\n",
    "from sklearn.metrics import accuracy_score\n",
    "\n",
    "pac_classifier = PassiveAggressiveClassifier()\n",
    "pac_classifier.fit(tfid_x_train,y_train)\n",
    "y_pred = pac_classifier.predict(tfid_x_test)\n",
    "score = accuracy_score(y_test,y_pred)\n",
    "pac_score = round(score*100,2)\n",
    "print(f'Accuracy: {pac_score}%')"
   ]
  },
  {
   "cell_type": "code",
   "execution_count": 28,
   "id": "88e997c0",
   "metadata": {},
   "outputs": [
    {
     "name": "stdout",
     "output_type": "stream",
     "text": [
      "Accuracy: 80.78%\n"
     ]
    }
   ],
   "source": [
    "from sklearn.naive_bayes import MultinomialNB \n",
    "nb_classifier = MultinomialNB()\n",
    "nb_classifier.fit(tfid_x_train,y_train)\n",
    "y_pred = nb_classifier.predict(tfid_x_test)\n",
    "score = accuracy_score(y_test,y_pred)\n",
    "nb_score = round(score*100,2)\n",
    "print(f'Accuracy: {nb_score}%')"
   ]
  },
  {
   "cell_type": "code",
   "execution_count": 29,
   "id": "fccc7b0e",
   "metadata": {},
   "outputs": [
    {
     "name": "stdout",
     "output_type": "stream",
     "text": [
      "Accuracy: 77.77%\n"
     ]
    }
   ],
   "source": [
    "from sklearn.neighbors import KNeighborsClassifier\n",
    "knc_classifier=KNeighborsClassifier()\n",
    "knc_classifier.fit(tfid_x_train,y_train)\n",
    "y_pred = knc_classifier.predict(tfid_x_test)\n",
    "score = accuracy_score(y_test,y_pred)\n",
    "knc_score = round(score*100,2)\n",
    "print(f'Accuracy: {knc_score}%')"
   ]
  },
  {
   "cell_type": "code",
   "execution_count": 30,
   "id": "c91e5617",
   "metadata": {},
   "outputs": [
    {
     "name": "stdout",
     "output_type": "stream",
     "text": [
      "Accuracy: 82.82%\n"
     ]
    }
   ],
   "source": [
    "from sklearn.linear_model import LogisticRegression\n",
    "lr_classifier=LogisticRegression()\n",
    "lr_classifier.fit(tfid_x_train,y_train)\n",
    "y_pred = lr_classifier.predict(tfid_x_test)\n",
    "score = accuracy_score(y_test,y_pred)\n",
    "lr_score = round(score*100,2)\n",
    "print(f'Accuracy: {lr_score}%')"
   ]
  },
  {
   "cell_type": "code",
   "execution_count": 31,
   "id": "bb2352e7",
   "metadata": {},
   "outputs": [
    {
     "name": "stdout",
     "output_type": "stream",
     "text": [
      "Accuracy: 81.93%\n"
     ]
    }
   ],
   "source": [
    "from sklearn.tree import DecisionTreeClassifier\n",
    "dtc_classifier=DecisionTreeClassifier()\n",
    "dtc_classifier.fit(tfid_x_train,y_train)\n",
    "y_pred = dtc_classifier.predict(tfid_x_test)\n",
    "score = accuracy_score(y_test,y_pred)\n",
    "dtc_score = round(score*100,2)\n",
    "print(f'Accuracy: {dtc_score}%')"
   ]
  },
  {
   "cell_type": "code",
   "execution_count": 32,
   "id": "a08035c5",
   "metadata": {},
   "outputs": [
    {
     "name": "stdout",
     "output_type": "stream",
     "text": [
      "Accuracy: 84.41%\n"
     ]
    }
   ],
   "source": [
    "from sklearn.ensemble import RandomForestClassifier\n",
    "rfc_classifier=RandomForestClassifier()\n",
    "rfc_classifier.fit(tfid_x_train,y_train)\n",
    "y_pred = rfc_classifier.predict(tfid_x_test)\n",
    "score = accuracy_score(y_test,y_pred)\n",
    "rfc_score = round(score*100,2)\n",
    "print(f'Accuracy: {rfc_score}%')"
   ]
  },
  {
   "cell_type": "code",
   "execution_count": null,
   "id": "7ca54ff7",
   "metadata": {},
   "outputs": [],
   "source": []
  },
  {
   "cell_type": "code",
   "execution_count": null,
   "id": "61c0fc9f",
   "metadata": {},
   "outputs": [],
   "source": []
  },
  {
   "cell_type": "code",
   "execution_count": 4,
   "id": "0d8a09a4",
   "metadata": {},
   "outputs": [],
   "source": [
    "from vaderSentiment.vaderSentiment import SentimentIntensityAnalyzer\n"
   ]
  },
  {
   "cell_type": "code",
   "execution_count": 5,
   "id": "8cba9b16",
   "metadata": {},
   "outputs": [],
   "source": [
    "sa = SentimentIntensityAnalyzer()\n",
    "def vader(text1):\n",
    "    return sa.polarity_scores(text=text1)"
   ]
  },
  {
   "cell_type": "code",
   "execution_count": 6,
   "id": "01823b0a",
   "metadata": {},
   "outputs": [],
   "source": [
    "df['sentiment_vader'] = df['feedback'].apply(vader)"
   ]
  },
  {
   "cell_type": "code",
   "execution_count": 7,
   "id": "8aff3147",
   "metadata": {},
   "outputs": [
    {
     "data": {
      "text/plain": [
       "0       {'neg': 0.0, 'neu': 0.556, 'pos': 0.444, 'comp...\n",
       "1       {'neg': 0.0, 'neu': 1.0, 'pos': 0.0, 'compound...\n",
       "2       {'neg': 0.0, 'neu': 1.0, 'pos': 0.0, 'compound...\n",
       "3       {'neg': 0.0, 'neu': 1.0, 'pos': 0.0, 'compound...\n",
       "4       {'neg': 0.0, 'neu': 1.0, 'pos': 0.0, 'compound...\n",
       "                              ...                        \n",
       "5640    {'neg': 0.031, 'neu': 0.872, 'pos': 0.098, 'co...\n",
       "5641    {'neg': 0.104, 'neu': 0.841, 'pos': 0.055, 'co...\n",
       "5642    {'neg': 0.0, 'neu': 0.84, 'pos': 0.16, 'compou...\n",
       "5643    {'neg': 0.0, 'neu': 0.79, 'pos': 0.21, 'compou...\n",
       "5644    {'neg': 0.035, 'neu': 0.846, 'pos': 0.119, 'co...\n",
       "Name: sentiment_vader, Length: 5645, dtype: object"
      ]
     },
     "execution_count": 7,
     "metadata": {},
     "output_type": "execute_result"
    }
   ],
   "source": [
    "df['sentiment_vader']"
   ]
  },
  {
   "cell_type": "code",
   "execution_count": 8,
   "id": "235257d3",
   "metadata": {},
   "outputs": [
    {
     "data": {
      "text/plain": [
       "0.0"
      ]
     },
     "execution_count": 8,
     "metadata": {},
     "output_type": "execute_result"
    }
   ],
   "source": [
    "df['sentiment_vader'][1]['compound']"
   ]
  },
  {
   "cell_type": "code",
   "execution_count": 9,
   "id": "596fd918",
   "metadata": {},
   "outputs": [],
   "source": [
    "feature3 = [df['sentiment_vader'][i]['compound'] for i in range(len(df.sentiment))]"
   ]
  },
  {
   "cell_type": "code",
   "execution_count": 12,
   "id": "e58638c7",
   "metadata": {},
   "outputs": [
    {
     "name": "stdout",
     "output_type": "stream",
     "text": [
      "0.0\n"
     ]
    }
   ],
   "source": [
    "print(feature3[1])"
   ]
  },
  {
   "cell_type": "code",
   "execution_count": 31,
   "id": "71e388fd",
   "metadata": {},
   "outputs": [],
   "source": [
    "df['sentiment_vader_1'] = 0"
   ]
  },
  {
   "cell_type": "code",
   "execution_count": 32,
   "id": "6434fbda",
   "metadata": {},
   "outputs": [
    {
     "name": "stderr",
     "output_type": "stream",
     "text": [
      "C:\\Users\\Abdul Samad\\AppData\\Local\\Temp\\ipykernel_24180\\1234628831.py:7: SettingWithCopyWarning: \n",
      "A value is trying to be set on a copy of a slice from a DataFrame\n",
      "\n",
      "See the caveats in the documentation: https://pandas.pydata.org/pandas-docs/stable/user_guide/indexing.html#returning-a-view-versus-a-copy\n",
      "  df['sentiment_vader_1'][i] = \"-1.0\"\n"
     ]
    }
   ],
   "source": [
    "for i in range(len(df)):\n",
    "    if feature3[i] == 0:\n",
    "        df['sentiment_vader_1'][i] = \"0.0\"\n",
    "    elif feature3[i] >= 0.5:\n",
    "        df['sentiment_vader_1'][i] = \"1.0\"\n",
    "    elif feature3[i] <= 0.5:\n",
    "        df['sentiment_vader_1'][i] = \"-1.0\""
   ]
  },
  {
   "cell_type": "code",
   "execution_count": 33,
   "id": "4887f41e",
   "metadata": {},
   "outputs": [
    {
     "data": {
      "text/html": [
       "<div>\n",
       "<style scoped>\n",
       "    .dataframe tbody tr th:only-of-type {\n",
       "        vertical-align: middle;\n",
       "    }\n",
       "\n",
       "    .dataframe tbody tr th {\n",
       "        vertical-align: top;\n",
       "    }\n",
       "\n",
       "    .dataframe thead th {\n",
       "        text-align: right;\n",
       "    }\n",
       "</style>\n",
       "<table border=\"1\" class=\"dataframe\">\n",
       "  <thead>\n",
       "    <tr style=\"text-align: right;\">\n",
       "      <th></th>\n",
       "      <th>stu_id</th>\n",
       "      <th>year</th>\n",
       "      <th>dept</th>\n",
       "      <th>feedback</th>\n",
       "      <th>sentiment</th>\n",
       "      <th>sentiment_vader</th>\n",
       "      <th>sentiment_vader_1</th>\n",
       "    </tr>\n",
       "  </thead>\n",
       "  <tbody>\n",
       "    <tr>\n",
       "      <th>0</th>\n",
       "      <td>19104001</td>\n",
       "      <td>BE</td>\n",
       "      <td>IT</td>\n",
       "      <td>The lectures were engaging</td>\n",
       "      <td>1.0</td>\n",
       "      <td>{'neg': 0.0, 'neu': 0.556, 'pos': 0.444, 'comp...</td>\n",
       "      <td>-1.0</td>\n",
       "    </tr>\n",
       "    <tr>\n",
       "      <th>1</th>\n",
       "      <td>19104002</td>\n",
       "      <td>BE</td>\n",
       "      <td>IT</td>\n",
       "      <td>The course material was poorly organized</td>\n",
       "      <td>-1.0</td>\n",
       "      <td>{'neg': 0.0, 'neu': 1.0, 'pos': 0.0, 'compound...</td>\n",
       "      <td>0.0</td>\n",
       "    </tr>\n",
       "    <tr>\n",
       "      <th>2</th>\n",
       "      <td>19104003</td>\n",
       "      <td>BE</td>\n",
       "      <td>IT</td>\n",
       "      <td>The professor was knowledgeable and approachable</td>\n",
       "      <td>1.0</td>\n",
       "      <td>{'neg': 0.0, 'neu': 1.0, 'pos': 0.0, 'compound...</td>\n",
       "      <td>0.0</td>\n",
       "    </tr>\n",
       "    <tr>\n",
       "      <th>3</th>\n",
       "      <td>19104004</td>\n",
       "      <td>BE</td>\n",
       "      <td>IT</td>\n",
       "      <td>The workload was manageable</td>\n",
       "      <td>0.0</td>\n",
       "      <td>{'neg': 0.0, 'neu': 1.0, 'pos': 0.0, 'compound...</td>\n",
       "      <td>0.0</td>\n",
       "    </tr>\n",
       "    <tr>\n",
       "      <th>4</th>\n",
       "      <td>19104005</td>\n",
       "      <td>BE</td>\n",
       "      <td>IT</td>\n",
       "      <td>The facilities were outdated and cramped</td>\n",
       "      <td>-1.0</td>\n",
       "      <td>{'neg': 0.0, 'neu': 1.0, 'pos': 0.0, 'compound...</td>\n",
       "      <td>0.0</td>\n",
       "    </tr>\n",
       "    <tr>\n",
       "      <th>...</th>\n",
       "      <td>...</td>\n",
       "      <td>...</td>\n",
       "      <td>...</td>\n",
       "      <td>...</td>\n",
       "      <td>...</td>\n",
       "      <td>...</td>\n",
       "      <td>...</td>\n",
       "    </tr>\n",
       "    <tr>\n",
       "      <th>5640</th>\n",
       "      <td>19102096</td>\n",
       "      <td>BE</td>\n",
       "      <td>COMPS</td>\n",
       "      <td>The speaker was well-prepared and knowledgeabl...</td>\n",
       "      <td>-1.0</td>\n",
       "      <td>{'neg': 0.031, 'neu': 0.872, 'pos': 0.098, 'co...</td>\n",
       "      <td>1.0</td>\n",
       "    </tr>\n",
       "    <tr>\n",
       "      <th>5641</th>\n",
       "      <td>19102097</td>\n",
       "      <td>BE</td>\n",
       "      <td>COMPS</td>\n",
       "      <td>The online session on how to ace technical int...</td>\n",
       "      <td>-1.0</td>\n",
       "      <td>{'neg': 0.104, 'neu': 0.841, 'pos': 0.055, 'co...</td>\n",
       "      <td>-1.0</td>\n",
       "    </tr>\n",
       "    <tr>\n",
       "      <th>5642</th>\n",
       "      <td>19102098</td>\n",
       "      <td>BE</td>\n",
       "      <td>COMPS</td>\n",
       "      <td>The speaker was engaging and kept my attention...</td>\n",
       "      <td>0.0</td>\n",
       "      <td>{'neg': 0.0, 'neu': 0.84, 'pos': 0.16, 'compou...</td>\n",
       "      <td>1.0</td>\n",
       "    </tr>\n",
       "    <tr>\n",
       "      <th>5643</th>\n",
       "      <td>19102099</td>\n",
       "      <td>BE</td>\n",
       "      <td>COMPS</td>\n",
       "      <td>The online session on how to ace technical int...</td>\n",
       "      <td>0.0</td>\n",
       "      <td>{'neg': 0.0, 'neu': 0.79, 'pos': 0.21, 'compou...</td>\n",
       "      <td>1.0</td>\n",
       "    </tr>\n",
       "    <tr>\n",
       "      <th>5644</th>\n",
       "      <td>19102100</td>\n",
       "      <td>BE</td>\n",
       "      <td>COMPS</td>\n",
       "      <td>The speaker was well-organized and provided he...</td>\n",
       "      <td>0.0</td>\n",
       "      <td>{'neg': 0.035, 'neu': 0.846, 'pos': 0.119, 'co...</td>\n",
       "      <td>1.0</td>\n",
       "    </tr>\n",
       "  </tbody>\n",
       "</table>\n",
       "<p>5645 rows × 7 columns</p>\n",
       "</div>"
      ],
      "text/plain": [
       "        stu_id year   dept                                           feedback  \\\n",
       "0     19104001   BE     IT                         The lectures were engaging   \n",
       "1     19104002   BE     IT           The course material was poorly organized   \n",
       "2     19104003   BE     IT   The professor was knowledgeable and approachable   \n",
       "3     19104004   BE     IT                        The workload was manageable   \n",
       "4     19104005   BE     IT           The facilities were outdated and cramped   \n",
       "...        ...  ...    ...                                                ...   \n",
       "5640  19102096   BE  COMPS  The speaker was well-prepared and knowledgeabl...   \n",
       "5641  19102097   BE  COMPS  The online session on how to ace technical int...   \n",
       "5642  19102098   BE  COMPS  The speaker was engaging and kept my attention...   \n",
       "5643  19102099   BE  COMPS  The online session on how to ace technical int...   \n",
       "5644  19102100   BE  COMPS  The speaker was well-organized and provided he...   \n",
       "\n",
       "      sentiment                                    sentiment_vader  \\\n",
       "0           1.0  {'neg': 0.0, 'neu': 0.556, 'pos': 0.444, 'comp...   \n",
       "1          -1.0  {'neg': 0.0, 'neu': 1.0, 'pos': 0.0, 'compound...   \n",
       "2           1.0  {'neg': 0.0, 'neu': 1.0, 'pos': 0.0, 'compound...   \n",
       "3           0.0  {'neg': 0.0, 'neu': 1.0, 'pos': 0.0, 'compound...   \n",
       "4          -1.0  {'neg': 0.0, 'neu': 1.0, 'pos': 0.0, 'compound...   \n",
       "...         ...                                                ...   \n",
       "5640       -1.0  {'neg': 0.031, 'neu': 0.872, 'pos': 0.098, 'co...   \n",
       "5641       -1.0  {'neg': 0.104, 'neu': 0.841, 'pos': 0.055, 'co...   \n",
       "5642        0.0  {'neg': 0.0, 'neu': 0.84, 'pos': 0.16, 'compou...   \n",
       "5643        0.0  {'neg': 0.0, 'neu': 0.79, 'pos': 0.21, 'compou...   \n",
       "5644        0.0  {'neg': 0.035, 'neu': 0.846, 'pos': 0.119, 'co...   \n",
       "\n",
       "     sentiment_vader_1  \n",
       "0                 -1.0  \n",
       "1                  0.0  \n",
       "2                  0.0  \n",
       "3                  0.0  \n",
       "4                  0.0  \n",
       "...                ...  \n",
       "5640               1.0  \n",
       "5641              -1.0  \n",
       "5642               1.0  \n",
       "5643               1.0  \n",
       "5644               1.0  \n",
       "\n",
       "[5645 rows x 7 columns]"
      ]
     },
     "execution_count": 33,
     "metadata": {},
     "output_type": "execute_result"
    }
   ],
   "source": [
    "df"
   ]
  },
  {
   "cell_type": "code",
   "execution_count": 34,
   "id": "34e56251",
   "metadata": {},
   "outputs": [
    {
     "data": {
      "text/plain": [
       "0       1.0\n",
       "1      -1.0\n",
       "2       1.0\n",
       "3       0.0\n",
       "4      -1.0\n",
       "       ... \n",
       "5640   -1.0\n",
       "5641   -1.0\n",
       "5642    0.0\n",
       "5643    0.0\n",
       "5644    0.0\n",
       "Name: sentiment, Length: 5645, dtype: float64"
      ]
     },
     "execution_count": 34,
     "metadata": {},
     "output_type": "execute_result"
    }
   ],
   "source": [
    "a = df.sentiment\n",
    "a"
   ]
  },
  {
   "cell_type": "code",
   "execution_count": 35,
   "id": "04323aaf",
   "metadata": {},
   "outputs": [
    {
     "data": {
      "text/plain": [
       "0       -1.0\n",
       "1        0.0\n",
       "2        0.0\n",
       "3        0.0\n",
       "4        0.0\n",
       "        ... \n",
       "5640     1.0\n",
       "5641    -1.0\n",
       "5642     1.0\n",
       "5643     1.0\n",
       "5644     1.0\n",
       "Name: sentiment_vader_1, Length: 5645, dtype: object"
      ]
     },
     "execution_count": 35,
     "metadata": {},
     "output_type": "execute_result"
    }
   ],
   "source": [
    "b = df.sentiment_vader_1\n",
    "b"
   ]
  },
  {
   "cell_type": "code",
   "execution_count": 37,
   "id": "83282ebd",
   "metadata": {},
   "outputs": [
    {
     "name": "stdout",
     "output_type": "stream",
     "text": [
      "Accuracy: 0.0%\n"
     ]
    }
   ],
   "source": [
    "from sklearn.metrics import accuracy_score\n",
    "score = accuracy_score(b,a)\n",
    "# vader_score = round(score*100,20)\n",
    "print(f'Accuracy: {score}%')"
   ]
  },
  {
   "cell_type": "code",
   "execution_count": null,
   "id": "6b53f8fd",
   "metadata": {},
   "outputs": [],
   "source": []
  }
 ],
 "metadata": {
  "kernelspec": {
   "display_name": "Python 3 (ipykernel)",
   "language": "python",
   "name": "python3"
  },
  "language_info": {
   "codemirror_mode": {
    "name": "ipython",
    "version": 3
   },
   "file_extension": ".py",
   "mimetype": "text/x-python",
   "name": "python",
   "nbconvert_exporter": "python",
   "pygments_lexer": "ipython3",
   "version": "3.11.2"
  }
 },
 "nbformat": 4,
 "nbformat_minor": 5
}
